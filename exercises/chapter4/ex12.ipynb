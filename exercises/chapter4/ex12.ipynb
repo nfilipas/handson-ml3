{
  "nbformat": 4,
  "nbformat_minor": 0,
  "metadata": {
    "colab": {
      "provenance": [],
      "authorship_tag": "ABX9TyNuqS3HX73IJse7LSAp+j1l",
      "include_colab_link": true
    },
    "kernelspec": {
      "name": "python3",
      "display_name": "Python 3"
    },
    "language_info": {
      "name": "python"
    }
  },
  "cells": [
    {
      "cell_type": "markdown",
      "metadata": {
        "id": "view-in-github",
        "colab_type": "text"
      },
      "source": [
        "<a href=\"https://colab.research.google.com/github/nfilipas/handson-ml3/blob/main/exercises/chapter4/ex12.ipynb\" target=\"_parent\"><img src=\"https://colab.research.google.com/assets/colab-badge.svg\" alt=\"Open In Colab\"/></a>"
      ]
    },
    {
      "cell_type": "code",
      "execution_count": 1,
      "metadata": {
        "id": "6qBEnQDiynmi"
      },
      "outputs": [],
      "source": [
        "from sklearn.datasets import load_iris\n",
        "from copy import deepcopy\n",
        "from matplotlib import pyplot as plt\n",
        "\n",
        "import numpy as np"
      ]
    },
    {
      "cell_type": "code",
      "source": [
        "iris = load_iris(as_frame=True) # load dataset\n",
        "\n",
        "# get X and y\n",
        "X = iris.data\n",
        "y = iris.target"
      ],
      "metadata": {
        "id": "lwlFYTR1z9TK"
      },
      "execution_count": 2,
      "outputs": []
    },
    {
      "cell_type": "code",
      "source": [
        "def shuffle_and_split_data(data, test_ratio, seed):\n",
        "    np.random.seed(seed)\n",
        "    shuffled_indices = np.random.permutation(len(data))\n",
        "    test_set_size = int(len(data) * test_ratio)\n",
        "    test_indices = shuffled_indices[:test_set_size]\n",
        "    train_indices = shuffled_indices[test_set_size:]\n",
        "    return data.iloc[train_indices], data.iloc[test_indices]"
      ],
      "metadata": {
        "id": "a3H_Ed7009KR"
      },
      "execution_count": 3,
      "outputs": []
    },
    {
      "cell_type": "code",
      "source": [
        "# split among training, validation and test sets\n",
        "\n",
        "seed = 42\n",
        "\n",
        "X_train_val, X_test = shuffle_and_split_data(X, 0.2, seed)\n",
        "y_train_val, y_test = shuffle_and_split_data(y, 0.2, seed)\n",
        "\n",
        "X_train, X_val = shuffle_and_split_data(X_train_val, 0.2, seed)\n",
        "y_train, y_val = shuffle_and_split_data(y_train_val, 0.2, seed)"
      ],
      "metadata": {
        "id": "LKIYQVwx3YLC"
      },
      "execution_count": 4,
      "outputs": []
    },
    {
      "cell_type": "code",
      "source": [
        "def cross_entropy_loss(y_matrix, p_hat_matrix):\n",
        "    eps = 1e-10 * np.ones(p_hat_matrix.shape)\n",
        "    m = p_hat_matrix.shape[1]\n",
        "    return -1/m * np.sum(y_matrix * np.log(p_hat_matrix + eps), axis=None)\n",
        "\n",
        "def estimated_prob(X_ext, theta):\n",
        "\n",
        "    # calculate matrix s\n",
        "    s = theta @ X_ext.T # s has classes on rows, number of instances on columns\n",
        "\n",
        "    # calculate matrix p_hat\n",
        "    K = s.shape[0]\n",
        "    m = s.shape[1]\n",
        "    p_hat = np.empty(s.shape)\n",
        "    for c in range(m):\n",
        "        den = 0\n",
        "        for k in range(K):\n",
        "            den += np.exp(s[k, c])\n",
        "        for k in range(K):\n",
        "            p_hat[k, c] = np.exp(s[k, c]) / den\n",
        "\n",
        "    return p_hat"
      ],
      "metadata": {
        "id": "FLJGC5sVSElt"
      },
      "execution_count": 28,
      "outputs": []
    },
    {
      "cell_type": "code",
      "source": [
        "class softmax_regressor:\n",
        "\n",
        "    def __init__(self):\n",
        "        self.trained = False\n",
        "\n",
        "    def train(self, X, y, n_epochs, eta, seed, X_val=None, y_val=None):\n",
        "        m = len(X) # number of instances\n",
        "        n = len(X.columns) # number of features\n",
        "        K = len(np.unique(y)) # number of classes\n",
        "\n",
        "        # random initialization of matrix theta\n",
        "        np.random.seed(seed)\n",
        "        self.theta = np.random.randn(K, n+1)\n",
        "\n",
        "        # extend X matrix\n",
        "        X_ext = np.concatenate((np.ones((m, 1)), X), axis=1)\n",
        "\n",
        "        # calculate y as a matrix\n",
        "        y_matrix = np.empty((K, m))\n",
        "        for c in range(m):\n",
        "            for k in range(K):\n",
        "                y_matrix[k, c] = y.iloc[c] == k\n",
        "\n",
        "        self.train_loss = []\n",
        "\n",
        "        if X_val is not None and y_val is not None:\n",
        "            m_val = X_val.shape[0]\n",
        "            X_val_ext = np.concatenate((np.ones((m_val, 1)), X_val), axis=1)\n",
        "\n",
        "            y_val_matrix = np.empty((K, m_val))\n",
        "            for c in range(m_val):\n",
        "                for k in range(K):\n",
        "                    y_val_matrix[k, c] = y_val.iloc[c] == k\n",
        "\n",
        "            self.val_loss = []\n",
        "            self.best_val_loss = float(\"inf\")\n",
        "\n",
        "        for epoch in range(n_epochs):\n",
        "\n",
        "            # calculate p_hat matrix\n",
        "            p_hat = estimated_prob(X_ext, self.theta)\n",
        "\n",
        "            # calculate train loss\n",
        "            self.train_loss.append(cross_entropy_loss(y_matrix, p_hat))\n",
        "\n",
        "            # calculate validation loss if available\n",
        "            if X_val is not None and y_val is not None:\n",
        "                p_hat_val = estimated_prob(X_val_ext, self.theta)\n",
        "                val_loss_current = cross_entropy_loss(y_val_matrix, p_hat_val)\n",
        "                self.val_loss.append(val_loss_current)\n",
        "\n",
        "                if val_loss_current < self.best_val_loss:\n",
        "                    self.best_val_loss = val_loss_current\n",
        "                    self.best_theta = self.theta\n",
        "                    self.best_epoch = epoch\n",
        "\n",
        "            # calculate gradient matrix\n",
        "            diff_matrix = p_hat - y_matrix\n",
        "\n",
        "            gradients = np.zeros(self.theta.shape)\n",
        "            for k in range(K):\n",
        "                for c in range(m):\n",
        "                    gradients[k, :] += diff_matrix[k, c] * X_ext[c, :]\n",
        "            gradients = 1/m*gradients\n",
        "\n",
        "            # make a step\n",
        "            self.theta -= eta*gradients\n",
        "\n",
        "        self.trained = True\n",
        "\n",
        "    def predict(self, X, best=False):\n",
        "        if not self.trained:\n",
        "            raise ValueError(\"Classifier has not been trained yet.\")\n",
        "\n",
        "        m = len(X)\n",
        "        X_ext = np.concatenate((np.ones((m, 1)), X), axis=1)\n",
        "        if best:\n",
        "            return np.argmax(self.best_theta @ X_ext.T, axis=0)\n",
        "        else:\n",
        "            return np.argmax(self.theta @ X_ext.T, axis=0)\n",
        "\n",
        "    def get_train_loss(self):\n",
        "        if not self.trained:\n",
        "            raise ValueError(\"Classifier has not been trained yet.\")\n",
        "        return self.train_loss\n",
        "\n",
        "    def get_val_loss(self):\n",
        "        if not self.trained:\n",
        "            raise ValueError(\"Classifier has not been trained yet.\")\n",
        "        if X_val is None or y_val is None:\n",
        "            raise ValueError(\"Validation set has not been given.\")\n",
        "        return self.val_loss\n",
        "\n",
        "    def get_best_epoch(self):\n",
        "        return self.best_epoch"
      ],
      "metadata": {
        "id": "lhMLRdIw5cPH"
      },
      "execution_count": 54,
      "outputs": []
    },
    {
      "cell_type": "code",
      "source": [
        "n_epochs = 10000\n",
        "eta = 0.1\n",
        "seed = 42\n",
        "softmax_clf = softmax_regressor()\n",
        "softmax_clf.train(X_train, y_train, n_epochs=n_epochs, eta=eta, seed=seed,\n",
        "                  X_val=X_val, y_val=y_val)\n",
        "train_loss_all = softmax_clf.get_train_loss()\n",
        "val_loss_all = softmax_clf.get_val_loss()"
      ],
      "metadata": {
        "id": "gcg74-9QTAyp"
      },
      "execution_count": 59,
      "outputs": []
    },
    {
      "cell_type": "code",
      "source": [
        "plt.figure(figsize=(16, 6))\n",
        "plt.plot(range(n_epochs), train_loss_all, label=\"Training set\")\n",
        "plt.plot(range(n_epochs), val_loss_all, label=\"Validation set\", alpha=0.7)\n",
        "plt.axvline(softmax_clf.get_best_epoch(), color=\"black\", label=\"Best epoch\")\n",
        "plt.grid()\n",
        "plt.legend()\n",
        "plt.xlabel(\"Epoch\")\n",
        "plt.ylabel(\"Accuracy\")\n",
        "plt.title(\"Early stopping\")\n",
        "plt.show()"
      ],
      "metadata": {
        "id": "A0bvFAVu6lDD",
        "outputId": "7e6aebc8-8ea7-4d45-baaf-329cfcf8d394",
        "colab": {
          "base_uri": "https://localhost:8080/",
          "height": 564
        }
      },
      "execution_count": 66,
      "outputs": [
        {
          "output_type": "display_data",
          "data": {
            "text/plain": [
              "<Figure size 1600x600 with 1 Axes>"
            ],
            "image/png": "[encoded data removed]"
          },
          "metadata": {}
        }
      ]
    },
    {
      "cell_type": "code",
      "source": [
        "y_test_pred = softmax_clf.predict(X_test, best=True)\n",
        "accuracy_test = np.sum((y_test - y_test_pred) == 0) / len(y_test)\n",
        "print(accuracy_test)"
      ],
      "metadata": {
        "id": "0DCGbO0q9-dX",
        "outputId": "2299a43e-99ac-4953-d96a-0f523765f710",
        "colab": {
          "base_uri": "https://localhost:8080/"
        }
      },
      "execution_count": 69,
      "outputs": [
        {
          "output_type": "stream",
          "name": "stdout",
          "text": [
            "0.9666666666666667\n"
          ]
        }
      ]
    }
  ]
}