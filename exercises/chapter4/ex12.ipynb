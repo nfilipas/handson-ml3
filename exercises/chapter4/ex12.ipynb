{
  "nbformat": 4,
  "nbformat_minor": 0,
  "metadata": {
    "colab": {
      "provenance": [],
      "authorship_tag": "ABX9TyPjTbWt8g0UcLnGLFzw2eXH",
      "include_colab_link": true
    },
    "kernelspec": {
      "name": "python3",
      "display_name": "Python 3"
    },
    "language_info": {
      "name": "python"
    }
  },
  "cells": [
    {
      "cell_type": "markdown",
      "metadata": {
        "id": "view-in-github",
        "colab_type": "text"
      },
      "source": [
        "<a href=\"https://colab.research.google.com/github/nfilipas/handson-ml3/blob/main/exercises/chapter4/ex12.ipynb\" target=\"_parent\"><img src=\"https://colab.research.google.com/assets/colab-badge.svg\" alt=\"Open In Colab\"/></a>"
      ]
    },
    {
      "cell_type": "code",
      "execution_count": 4,
      "metadata": {
        "id": "6qBEnQDiynmi"
      },
      "outputs": [],
      "source": [
        "from sklearn.datasets import load_iris\n",
        "\n",
        "import numpy as np"
      ]
    },
    {
      "cell_type": "code",
      "source": [
        "iris = load_iris(as_frame=True) # load dataset\n",
        "\n",
        "# get X and y\n",
        "X = iris.data\n",
        "y = iris.target"
      ],
      "metadata": {
        "id": "lwlFYTR1z9TK"
      },
      "execution_count": 5,
      "outputs": []
    },
    {
      "cell_type": "code",
      "source": [
        "def shuffle_and_split_data(data, test_ratio, seed):\n",
        "    np.random.seed(seed)\n",
        "    shuffled_indices = np.random.permutation(len(data))\n",
        "    test_set_size = int(len(data) * test_ratio)\n",
        "    test_indices = shuffled_indices[:test_set_size]\n",
        "    train_indices = shuffled_indices[test_set_size:]\n",
        "    return data.iloc[train_indices], data.iloc[test_indices]"
      ],
      "metadata": {
        "id": "a3H_Ed7009KR"
      },
      "execution_count": 21,
      "outputs": []
    },
    {
      "cell_type": "code",
      "source": [
        "# split among training, validation and test sets\n",
        "\n",
        "seed = 42\n",
        "\n",
        "X_train_val, X_test = shuffle_and_split_data(X, 0.2, seed)\n",
        "y_train_val, y_test = shuffle_and_split_data(y, 0.2, seed)\n",
        "\n",
        "X_train, X_val = shuffle_and_split_data(X_train_val, 0.2, seed)\n",
        "y_train, y_val = shuffle_and_split_data(y_train_val, 0.2, seed)"
      ],
      "metadata": {
        "id": "LKIYQVwx3YLC"
      },
      "execution_count": 25,
      "outputs": []
    },
    {
      "cell_type": "code",
      "source": [
        "eta = 0.1\n",
        "n_epochs = 1000\n",
        "m = len(X_train) # number of instances\n",
        "n = len(X_train.columns) # number of features\n",
        "K = len(np.unique(y_train)) # number of classes\n",
        "\n",
        "# random initialization of matrix theta\n",
        "seed = 42\n",
        "np.random.seed(42)\n",
        "theta = np.random.randn(K, n+1)\n",
        "\n",
        "# calculate matrix s\n",
        "X_train_ext = np.concatenate((np.ones((m, 1)), X_train), axis=1)\n",
        "s = theta @ X_train_ext.T # s has classes on rows, number of instances on columns\n",
        "\n",
        "# calculate matrix p_hat\n",
        "p_hat = np.empty(s.shape)\n",
        "for c in range(m):\n",
        "    den = 0\n",
        "    for k in range(K):\n",
        "        den += np.exp(s[k, c])\n",
        "    for k in range(K):\n",
        "        p_hat[k, c] = np.exp(s[k, c]) / den\n",
        "\n",
        "# calculate gradient matrix\n",
        "gradients = np.empty(theta.shape)\n",
        "y_train_matrix = np.empty(p_hat.shape)\n",
        "for c in range(m):\n",
        "    for k in range(K):\n",
        "        y_train_matrix[k, c] = y_train.iloc[c] == k\n",
        "\n",
        "display(y_train_matrix)\n",
        "# k = 0\n",
        "# c = 0\n",
        "# m = 0\n",
        "# gradients[k, c] = p_hat[k, m] -"
      ],
      "metadata": {
        "id": "lhMLRdIw5cPH",
        "outputId": "94bda4d4-f365-432b-bd6c-c7d31d59a255",
        "colab": {
          "base_uri": "https://localhost:8080/",
          "height": 330
        }
      },
      "execution_count": 49,
      "outputs": [
        {
          "output_type": "display_data",
          "data": {
            "text/plain": [
              "array([[0., 0., 0., 1., 0., 0., 0., 1., 0., 0., 0., 0., 0., 0., 0., 1.,\n",
              "        1., 0., 0., 1., 1., 0., 0., 0., 0., 0., 0., 1., 0., 1., 0., 0.,\n",
              "        1., 0., 1., 1., 0., 1., 0., 0., 0., 1., 1., 1., 1., 0., 1., 1.,\n",
              "        0., 0., 0., 1., 0., 0., 0., 0., 0., 0., 0., 0., 0., 1., 1., 1.,\n",
              "        0., 1., 1., 1., 0., 0., 0., 0., 0., 0., 0., 1., 1., 0., 0., 1.,\n",
              "        0., 0., 0., 0., 0., 0., 0., 0., 0., 0., 1., 0., 1., 0., 1., 1.],\n",
              "       [0., 1., 1., 0., 0., 0., 0., 0., 1., 0., 0., 1., 0., 1., 1., 0.,\n",
              "        0., 1., 0., 0., 0., 0., 0., 1., 0., 1., 1., 0., 0., 0., 1., 0.,\n",
              "        0., 0., 0., 0., 0., 0., 0., 1., 0., 0., 0., 0., 0., 0., 0., 0.,\n",
              "        1., 0., 1., 0., 1., 0., 1., 0., 0., 0., 0., 1., 1., 0., 0., 0.,\n",
              "        0., 0., 0., 0., 0., 1., 0., 1., 0., 1., 1., 0., 0., 0., 1., 0.,\n",
              "        0., 1., 0., 1., 0., 1., 1., 0., 1., 1., 0., 0., 0., 1., 0., 0.],\n",
              "       [1., 0., 0., 0., 1., 1., 1., 0., 0., 1., 1., 0., 1., 0., 0., 0.,\n",
              "        0., 0., 1., 0., 0., 1., 1., 0., 1., 0., 0., 0., 1., 0., 0., 1.,\n",
              "        0., 1., 0., 0., 1., 0., 1., 0., 1., 0., 0., 0., 0., 1., 0., 0.,\n",
              "        0., 1., 0., 0., 0., 1., 0., 1., 1., 1., 1., 0., 0., 0., 0., 0.,\n",
              "        1., 0., 0., 0., 1., 0., 1., 0., 1., 0., 0., 0., 0., 1., 0., 0.,\n",
              "        1., 0., 1., 0., 1., 0., 0., 1., 0., 0., 0., 1., 0., 0., 0., 0.]])"
            ]
          },
          "metadata": {}
        }
      ]
    }
  ]
}