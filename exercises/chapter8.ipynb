{
  "nbformat": 4,
  "nbformat_minor": 0,
  "metadata": {
    "colab": {
      "provenance": [],
      "authorship_tag": "ABX9TyP2SZhAnwb0QY2LeryzQTST",
      "include_colab_link": true
    },
    "kernelspec": {
      "name": "python3",
      "display_name": "Python 3"
    },
    "language_info": {
      "name": "python"
    }
  },
  "cells": [
    {
      "cell_type": "markdown",
      "metadata": {
        "id": "view-in-github",
        "colab_type": "text"
      },
      "source": [
        "<a href=\"https://colab.research.google.com/github/nfilipas/handson-ml3/blob/main/exercises/chapter8.ipynb\" target=\"_parent\"><img src=\"https://colab.research.google.com/assets/colab-badge.svg\" alt=\"Open In Colab\"/></a>"
      ]
    },
    {
      "cell_type": "code",
      "execution_count": 12,
      "metadata": {
        "id": "PZd1HoBaZkVE"
      },
      "outputs": [],
      "source": [
        "from sklearn.datasets import fetch_openml\n",
        "from sklearn.ensemble import RandomForestClassifier\n",
        "from sklearn.linear_model import SGDClassifier\n",
        "from sklearn.decomposition import PCA\n",
        "\n",
        "import time"
      ]
    },
    {
      "cell_type": "code",
      "source": [
        "mnist = fetch_openml(\"mnist_784\", as_frame=False)\n",
        "X, y = mnist.data, mnist.target\n",
        "X_train, X_test = X[:60_000], X[60_000:]\n",
        "y_train, y_test = y[:60_000], y[60_000:]"
      ],
      "metadata": {
        "id": "lznf2m-ga_xp",
        "outputId": "0b4b0514-c16f-497b-b9c1-164645bf3200",
        "colab": {
          "base_uri": "https://localhost:8080/"
        }
      },
      "execution_count": 5,
      "outputs": [
        {
          "output_type": "stream",
          "name": "stderr",
          "text": [
            "/usr/local/lib/python3.10/dist-packages/sklearn/datasets/_openml.py:968: FutureWarning: The default value of `parser` will change from `'liac-arff'` to `'auto'` in 1.4. You can set `parser='auto'` to silence this warning. Therefore, an `ImportError` will be raised from 1.4 if the dataset is dense and pandas is not installed. Note that the pandas parser may return different data types. See the Notes Section in fetch_openml's API doc for details.\n",
            "  warn(\n"
          ]
        }
      ]
    },
    {
      "cell_type": "code",
      "source": [
        "rf_clf = RandomForestClassifier(random_state=42)\n",
        "start_time = time.time()\n",
        "rf_clf.fit(X_train, y_train)\n",
        "train_time = time.time() - start_time"
      ],
      "metadata": {
        "id": "KqNsq5JibgDm"
      },
      "execution_count": 7,
      "outputs": []
    },
    {
      "cell_type": "code",
      "source": [
        "print(f\"Training time: {round(train_time)} seconds\")\n",
        "print(f\"Accuracy: {rf_clf.score(X_test, y_test)}\")"
      ],
      "metadata": {
        "id": "ce255g17cM8g",
        "outputId": "8887d553-d2e4-4f44-9306-74e974a3fb7d",
        "colab": {
          "base_uri": "https://localhost:8080/"
        }
      },
      "execution_count": 10,
      "outputs": [
        {
          "output_type": "stream",
          "name": "stdout",
          "text": [
            "Training time: 55 seconds\n",
            "Accuracy: 0.9705\n"
          ]
        }
      ]
    },
    {
      "cell_type": "code",
      "source": [
        "pca = PCA(n_components=0.95, svd_solver=\"full\")\n",
        "X_train_red = pca.fit_transform(X_train)\n",
        "X_test_red = pca.transform(X_test)"
      ],
      "metadata": {
        "id": "taPAaux7dYyJ"
      },
      "execution_count": 20,
      "outputs": []
    },
    {
      "cell_type": "code",
      "source": [
        "print(pca.n_components_)"
      ],
      "metadata": {
        "id": "7d5u0Ta0hr_9",
        "outputId": "86adbb66-afd9-440d-f494-296e4dadd9ab",
        "colab": {
          "base_uri": "https://localhost:8080/"
        }
      },
      "execution_count": 25,
      "outputs": [
        {
          "output_type": "stream",
          "name": "stdout",
          "text": [
            "154\n"
          ]
        }
      ]
    },
    {
      "cell_type": "code",
      "source": [
        "rf_clf2 = RandomForestClassifier(random_state=42)\n",
        "start_time = time.time()\n",
        "rf_clf2.fit(X_train_red, y_train)\n",
        "train_time = time.time() - start_time"
      ],
      "metadata": {
        "id": "QTU1TS-0eTEz"
      },
      "execution_count": 21,
      "outputs": []
    },
    {
      "cell_type": "code",
      "source": [
        "print(f\"Training time: {round(train_time)} seconds\")\n",
        "print(f\"Accuracy: {rf_clf2.score(X_test_red, y_test)}\")"
      ],
      "metadata": {
        "id": "U2dUUM4DfKck",
        "outputId": "4930744b-e132-4da5-d67a-cd0e7a80bf46",
        "colab": {
          "base_uri": "https://localhost:8080/"
        }
      },
      "execution_count": 22,
      "outputs": [
        {
          "output_type": "stream",
          "name": "stdout",
          "text": [
            "Training time: 199 seconds\n",
            "Accuracy: 0.9481\n"
          ]
        }
      ]
    },
    {
      "cell_type": "code",
      "source": [
        "sgd_clf = SGDClassifier(random_state=42)\n",
        "start_time = time.time()\n",
        "sgd_clf.fit(X_train, y_train)\n",
        "train_time = time.time() - start_time"
      ],
      "metadata": {
        "id": "1r6zvrhEf-0e"
      },
      "execution_count": 18,
      "outputs": []
    },
    {
      "cell_type": "code",
      "source": [
        "print(f\"Training time: {round(train_time)} seconds\")\n",
        "print(f\"Accuracy: {sgd_clf.score(X_test, y_test)}\")"
      ],
      "metadata": {
        "id": "2Xqbr_OlgT-P",
        "outputId": "e134d747-658a-47a0-a7e3-344c8b896ce0",
        "colab": {
          "base_uri": "https://localhost:8080/"
        }
      },
      "execution_count": 19,
      "outputs": [
        {
          "output_type": "stream",
          "name": "stdout",
          "text": [
            "Training time: 243 seconds\n",
            "Accuracy: 0.874\n"
          ]
        }
      ]
    },
    {
      "cell_type": "code",
      "source": [
        "sgd_clf2 = SGDClassifier(random_state=42)\n",
        "start_time = time.time()\n",
        "sgd_clf2.fit(X_train_red, y_train)\n",
        "train_time = time.time() - start_time"
      ],
      "metadata": {
        "id": "9cqHFxxlgkcj"
      },
      "execution_count": 23,
      "outputs": []
    },
    {
      "cell_type": "code",
      "source": [
        "print(f\"Training time: {round(train_time)} seconds\")\n",
        "print(f\"Accuracy: {sgd_clf2.score(X_test_red, y_test)}\")"
      ],
      "metadata": {
        "id": "59BpZMNFhcgs",
        "outputId": "699dfe15-0565-4282-da5f-bb7e4e4b105f",
        "colab": {
          "base_uri": "https://localhost:8080/"
        }
      },
      "execution_count": 24,
      "outputs": [
        {
          "output_type": "stream",
          "name": "stdout",
          "text": [
            "Training time: 47 seconds\n",
            "Accuracy: 0.8959\n"
          ]
        }
      ]
    }
  ]
}